{
 "cells": [
  {
   "cell_type": "code",
   "execution_count": 3,
   "id": "695c39d4-c8cf-4f05-b9a6-cfc979439913",
   "metadata": {},
   "outputs": [
    {
     "name": "stdout",
     "output_type": "stream",
     "text": [
      "C:\\Users\\Zero\\Documents\\Aulas\\UoT_Bootcamp_Fintech\\UTOR-VIRT-FIN-PT-05-2023-U-LOLC\\python-part3\n",
      "C:\\Users\\Zero\\Documents\\Aulas\\UoT_Bootcamp_Fintech\\UTOR-VIRT-FIN-PT-05-2023-U-LOLC\\python-part3\\Resources\\budget_data.csv\n"
     ]
    }
   ],
   "source": [
    "import os # for file path\n",
    "import csv # for reading csv file\n",
    "\n",
    "current_dir = os.getcwd() # get current working dir\n",
    "print(current_dir)\n",
    "\n",
    "path_budget_data = os.path.join(current_dir, \"Resources\", \"budget_data.csv\") # get the csv file path\n",
    "print(path_budget_data)\n",
    "\n",
    "\n",
    "\n",
    "def read_csv_file(file_path):\n",
    "    \"\"\"\n",
    "    Reads a CSV file and returns the data as a list of dictionaries.\n",
    "    Each dictionary represents a row, with column names as keys and corresponding values.\n",
    "    Args:\n",
    "        file_path (str): The path to the CSV file.\n",
    "    Returns:\n",
    "        A list of dictionaries representing the CSV data.\n",
    "    \"\"\"\n",
    "    data = []\n",
    "    with open(file_path, 'r') as file:\n",
    "        reader = csv.DictReader(file)\n",
    "        for row in reader:\n",
    "            data.append(dict(row))\n",
    "    return data\n",
    "\n",
    "def get_data():    \n",
    "    return read_csv_file(path_budget_data)\n",
    "\n",
    "data = get_data()\n",
    "\n"
   ]
  },
  {
   "cell_type": "code",
   "execution_count": 4,
   "id": "ef908911-7f82-43c2-a53d-bd3c290928ec",
   "metadata": {},
   "outputs": [
    {
     "name": "stdout",
     "output_type": "stream",
     "text": [
      "Financial Analysis\n",
      "----------------------------\n",
      "Total Months: 86\n",
      "Total: $38382578\n",
      "Average Change: -2315.12\n",
      "Greatest Increase in Profits: Feb-2012 1170593 \n",
      "Greatest Decrease in Profits: Sep-2013 -1196225 \n"
     ]
    }
   ],
   "source": [
    "\n",
    "def calculate_total_amount(data):\n",
    "    total_amount = 0\n",
    "    for item in data:\n",
    "        total_amount = total_amount + int(item['Profit/Losses'])\n",
    "    return total_amount\n",
    "\n",
    "def calculate_avarage_change(data):    \n",
    "    previous_number = int(data[0]['Profit/Losses']) \n",
    "    total_value = 0\n",
    "    for i in range(1,len(data)):\n",
    "        current_number = int(data[i]['Profit/Losses'])\n",
    "        total_value = total_value + (current_number - previous_number)        \n",
    "        previous_number = current_number\n",
    "    return total_value / (len(data)-1)\n",
    "\n",
    "def get_greatest_increase(data):\n",
    "    greatest_increase = 0\n",
    "    greatest_increase_item = None\n",
    "    for item in data:\n",
    "        if greatest_increase < int(item['Profit/Losses']):\n",
    "            greatest_increase = int(item['Profit/Losses'])\n",
    "            greatest_increase_item = item\n",
    "    return greatest_increase_item\n",
    "\n",
    "def get_greatest_decrease(data):\n",
    "    greatest_decrease = 0\n",
    "    greatest_decrease_item = None\n",
    "    for item in data:\n",
    "        if greatest_decrease > int(item['Profit/Losses']):\n",
    "            greatest_decrease = int(item['Profit/Losses'])\n",
    "            greatest_decrease_item = item\n",
    "    return greatest_decrease_item\n",
    "\n",
    "\n",
    "    \n",
    "# Financial Analysis\n",
    "# ----------------------------\n",
    "# Total Months: 86\n",
    "# Total: $38382578\n",
    "# Average  Change: $-2315.12\n",
    "# Greatest Increase in Profits: Feb-2012 ($1926159)\n",
    "# Greatest Decrease in Profits: Sep-2013 ($-2196167)\n",
    "\n",
    "print(\"Financial Analysis\")\n",
    "print(\"----------------------------\")\n",
    "print(f\"Total Months: {len(data)}\")\n",
    "print(f\"Total: ${calculate_total_amount(data)}\")\n",
    "print(f\"Average Change: {round(calculate_avarage_change(data), 2)}\")\n",
    "greatest_increase = get_greatest_increase(data)\n",
    "print(f\"Greatest Increase in Profits: {greatest_increase['Date']} {greatest_increase['Profit/Losses']} \")\n",
    "greatest_decrease = get_greatest_decrease(data)\n",
    "print(f\"Greatest Decrease in Profits: {greatest_decrease['Date']} {greatest_decrease['Profit/Losses']} \")"
   ]
  },
  {
   "cell_type": "code",
   "execution_count": null,
   "id": "9f2f93d4-9819-4f76-8eb7-f2392910e538",
   "metadata": {},
   "outputs": [],
   "source": []
  }
 ],
 "metadata": {
  "kernelspec": {
   "display_name": "Python 3 (ipykernel)",
   "language": "python",
   "name": "python3"
  },
  "language_info": {
   "codemirror_mode": {
    "name": "ipython",
    "version": 3
   },
   "file_extension": ".py",
   "mimetype": "text/x-python",
   "name": "python",
   "nbconvert_exporter": "python",
   "pygments_lexer": "ipython3",
   "version": "3.10.11"
  }
 },
 "nbformat": 4,
 "nbformat_minor": 5
}
